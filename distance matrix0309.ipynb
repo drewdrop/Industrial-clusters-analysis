{
 "cells": [
  {
   "cell_type": "code",
   "execution_count": 6,
   "metadata": {},
   "outputs": [],
   "source": [
    "import pandas as pd\n",
    "import numpy as np\n",
    "df1=pd.read_csv('20134.csv',encoding = \"GB2312\") #import document"
   ]
  },
  {
   "cell_type": "code",
   "execution_count": 7,
   "metadata": {},
   "outputs": [],
   "source": [
    "from math import radians, cos, sin, asin, sqrt  \n",
    "def haversine(lon1, lat1, lon2, lat2): # 经度1，纬度1，经度2，纬度2 （十进制度数）  \n",
    "    # 将十进制度数转化为弧度  \n",
    "    lon1, lat1, lon2, lat2 = map(radians, [lon1, lat1, lon2, lat2])   \n",
    "    # haversine公式  \n",
    "    dlon = lon2 - lon1   \n",
    "    dlat = lat2 - lat1   \n",
    "    a = sin(dlat/2)**2 + cos(lat1) * cos(lat2) * sin(dlon/2)**2  \n",
    "    c = 2 * asin(sqrt(a))   \n",
    "    r = 6371.137 # 地球平均半径，单位为公里\n",
    "    d=np.around(r*c, decimals=3)\n",
    "    return d "
   ]
  },
  {
   "cell_type": "code",
   "execution_count": 8,
   "metadata": {},
   "outputs": [],
   "source": [
    "import numpy as np\n",
    "np.set_printoptions(suppress=True)\n",
    "n=df1.shape[0]\n",
    "a=np.empty(shape=[n, n])#创建空白矩阵\n",
    "i=0\n",
    "while i<n:\n",
    "    j=i\n",
    "    while j<n:\n",
    "        lon1=df1.loc[i]['lng']\n",
    "        lat1=df1.loc[i]['lat']\n",
    "        lon2=df1.loc[j]['lng']\n",
    "        lat2=df1.loc[j]['lat']\n",
    "        a[i,j]=haversine(lon1,lat1,lon2,lat2)\n",
    "        j=j+1\n",
    "    i=i+1  "
   ]
  },
  {
   "cell_type": "code",
   "execution_count": 10,
   "metadata": {},
   "outputs": [],
   "source": [
    "import pickle\n",
    "with open('data1.pickle','wb') as file:\n",
    "    pickle.dump(a,file)"
   ]
  },
  {
   "cell_type": "code",
   "execution_count": 9,
   "metadata": {},
   "outputs": [
    {
     "name": "stdout",
     "output_type": "stream",
     "text": [
      "[[  0.    272.269 165.264 ...  81.682  72.46   87.13 ]\n",
      " [  0.      0.    146.432 ... 212.176 209.133 224.374]\n",
      " [  0.      0.      0.    ...  85.625  92.872  89.884]\n",
      " ...\n",
      " [  0.      0.      0.    ...   0.     17.44   18.683]\n",
      " [  0.      0.      0.    ...   0.      0.     35.162]\n",
      " [  0.      0.      0.    ...   0.      0.      0.   ]]\n"
     ]
    }
   ],
   "source": [
    "print(a)"
   ]
  },
  {
   "cell_type": "code",
   "execution_count": null,
   "metadata": {},
   "outputs": [],
   "source": []
  }
 ],
 "metadata": {
  "kernelspec": {
   "display_name": "Python 3",
   "language": "python",
   "name": "python3"
  },
  "language_info": {
   "codemirror_mode": {
    "name": "ipython",
    "version": 3
   },
   "file_extension": ".py",
   "mimetype": "text/x-python",
   "name": "python",
   "nbconvert_exporter": "python",
   "pygments_lexer": "ipython3",
   "version": "3.6.4"
  }
 },
 "nbformat": 4,
 "nbformat_minor": 2
}
