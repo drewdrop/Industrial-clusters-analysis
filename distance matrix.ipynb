{
 "cells": [
  {
   "cell_type": "code",
   "execution_count": 1,
   "metadata": {},
   "outputs": [],
   "source": [
    "import pandas as pd\n",
    "import numpy as np\n",
    "df1=pd.read_csv('20134.csv',encoding = \"GB2312\") #import document"
   ]
  },
  {
   "cell_type": "code",
   "execution_count": 2,
   "metadata": {},
   "outputs": [],
   "source": [
    "from math import radians, cos, sin, asin, sqrt  \n",
    "def haversine(lon1, lat1, lon2, lat2): # 经度1，纬度1，经度2，纬度2 （十进制度数）  \n",
    "    # 将十进制度数转化为弧度  \n",
    "    lon1, lat1, lon2, lat2 = map(radians, [lon1, lat1, lon2, lat2])   \n",
    "    # haversine公式  \n",
    "    dlon = lon2 - lon1   \n",
    "    dlat = lat2 - lat1   \n",
    "    a = sin(dlat/2)**2 + cos(lat1) * cos(lat2) * sin(dlon/2)**2  \n",
    "    c = 2 * asin(sqrt(a))   \n",
    "    r = 6371.137 # 地球平均半径，单位为公里  \n",
    "    return c * r "
   ]
  },
  {
   "cell_type": "code",
   "execution_count": 3,
   "metadata": {},
   "outputs": [
    {
     "name": "stdout",
     "output_type": "stream",
     "text": [
      "[[  0.         272.26864355 165.26406108 ... 156.13381265 151.96571675\n",
      "  175.18076286]\n",
      " [272.26864355   0.         146.43153303 ... 180.54778202 169.27358001\n",
      "  101.71346972]\n",
      " [165.26406108 146.43153303   0.         ... 176.23623474 162.13231894\n",
      "  103.43218225]\n",
      " ...\n",
      " [156.13381265 180.54778202 176.23623474 ...   0.          14.41156092\n",
      "   91.00317537]\n",
      " [151.96571675 169.27358001 162.13231894 ...  14.41156092   0.\n",
      "   77.20286246]\n",
      " [175.18076286 101.71346972 103.43218225 ...  91.00317537  77.20286246\n",
      "    0.        ]]\n"
     ]
    }
   ],
   "source": [
    "import numpy as np\n",
    "n=100\n",
    "a=np.empty(shape=[n, n])#创建空白矩阵\n",
    "i=0\n",
    "while i<n:\n",
    "    j=0\n",
    "    while j<n:\n",
    "        lon1=df1.loc[i]['lng']\n",
    "        lat1=df1.loc[i]['lat']\n",
    "        lon2=df1.loc[j]['lng']\n",
    "        lat2=df1.loc[j]['lat']\n",
    "        a[i,j]=haversine(lon1,lat1,lon2,lat2)\n",
    "        j=j+1\n",
    "    i=i+1    \n",
    "\n",
    "print(a)"
   ]
  },
  {
   "cell_type": "code",
   "execution_count": 4,
   "metadata": {},
   "outputs": [],
   "source": [
    "import pandas as pd\n",
    "import numpy as np\n",
    "data1=pd.DataFrame(a)#导出为dataframe格式数据\n",
    "data1.to_csv('data1.csv')#保存为csv格式文件"
   ]
  },
  {
   "cell_type": "code",
   "execution_count": null,
   "metadata": {},
   "outputs": [],
   "source": []
  },
  {
   "cell_type": "code",
   "execution_count": null,
   "metadata": {},
   "outputs": [],
   "source": []
  }
 ],
 "metadata": {
  "kernelspec": {
   "display_name": "Python 3",
   "language": "python",
   "name": "python3"
  },
  "language_info": {
   "codemirror_mode": {
    "name": "ipython",
    "version": 3
   },
   "file_extension": ".py",
   "mimetype": "text/x-python",
   "name": "python",
   "nbconvert_exporter": "python",
   "pygments_lexer": "ipython3",
   "version": "3.6.5"
  }
 },
 "nbformat": 4,
 "nbformat_minor": 2
}
